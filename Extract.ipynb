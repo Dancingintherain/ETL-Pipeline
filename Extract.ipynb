{
 "cells": [
  {
   "cell_type": "code",
   "execution_count": 1,
   "metadata": {
    "ExecuteTime": {
     "end_time": "2020-02-05T13:56:14.857709Z",
     "start_time": "2020-02-05T13:56:14.848735Z"
    }
   },
   "outputs": [],
   "source": [
    "import pandas\n",
    "import requests\n",
    "import json\n",
    "\n",
    "class Extract:\n",
    "\n",
    "    def __init__(self):\n",
    "       # loading our json file here to use it across different class methods\n",
    "        self.data_sources = json.load(open('data_config.json'))\n",
    "        self.api = self.data_sources['data_sources']['api']\n",
    "        self.csv_path = self.data_sources['data_sources']['csv']\n",
    "\n",
    "    def getCSVData(self, csv_name):\n",
    "        # csv name as argument - since multiple csv files in the future\n",
    "        # TODO: made df generic when sep etc. differs\n",
    "        df = pandas.read_csv(self.csv_path[csv_name], sep = ';', encoding='latin1',\n",
    "                 compression='infer')         \n",
    "        return df\n",
    "\n",
    "    def getAPISData(self, api_name):\n",
    "\n",
    "        api_url = self.api[api_name]\n",
    "        response = requests.get(api_url)\n",
    "        return response.json()"
   ]
  },
  {
   "cell_type": "code",
   "execution_count": null,
   "metadata": {},
   "outputs": [],
   "source": []
  },
  {
   "cell_type": "code",
   "execution_count": null,
   "metadata": {},
   "outputs": [],
   "source": []
  }
 ],
 "metadata": {
  "kernelspec": {
   "display_name": "Python 3",
   "language": "python",
   "name": "python3"
  },
  "language_info": {
   "codemirror_mode": {
    "name": "ipython",
    "version": 3
   },
   "file_extension": ".py",
   "mimetype": "text/x-python",
   "name": "python",
   "nbconvert_exporter": "python",
   "pygments_lexer": "ipython3",
   "version": "3.8.1"
  },
  "toc": {
   "base_numbering": 1,
   "nav_menu": {},
   "number_sections": true,
   "sideBar": true,
   "skip_h1_title": false,
   "title_cell": "Table of Contents",
   "title_sidebar": "Contents",
   "toc_cell": false,
   "toc_position": {},
   "toc_section_display": true,
   "toc_window_display": false
  }
 },
 "nbformat": 4,
 "nbformat_minor": 2
}
