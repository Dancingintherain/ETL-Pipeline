{
 "cells": [
  {
   "cell_type": "code",
   "execution_count": 104,
   "metadata": {
    "ExecuteTime": {
     "end_time": "2020-02-05T13:57:20.022992Z",
     "start_time": "2020-02-05T13:57:19.972141Z"
    }
   },
   "outputs": [],
   "source": [
    "from Extract import Extract\n",
    "import pandas as pd\n",
    "#import numpy as np\n",
    "\n",
    "# TODO: add helper Class for helper methods - more generic!\n",
    "# convert df types to smaller types for\n",
    "def convert_columns(df):\n",
    "\n",
    "  for col in df.columns:\n",
    "    col_type = df[col].dtype\n",
    "    if (col_type == 'int64'):\n",
    "            df[col] = df[col].astype('int32')\n",
    "    if (col_type == 'float64'):\n",
    "            df[col] = df[col].astype('float32')\n",
    "  return df\n",
    "\n",
    "class Transformation:\n",
    "\n",
    "    def __init__(self, dataSource, dataSet):\n",
    "        extractObj = Extract()\n",
    "        if dataSource == 'api':\n",
    "            self.data = extractObj.getAPISData(dataSet)\n",
    "        elif dataSource == 'csv':\n",
    "            self.data = extractObj.getCSVData(dataSet)\n",
    "        else:\n",
    "            self.data = extractObj.databases(dataSet)\n",
    "\n",
    "    # Wohndauer data transformation\n",
    "    # example of some cleaning steps of csv data\n",
    "    def csvWohndauer(self):\n",
    "\n",
    "        # drop unnecessary columns\n",
    "        self.data.drop(['ZEIT','BEZ','PGR','BZR','PLR','STADTRAUM'], axis = 1, inplace = True, errors = 'ignore')\n",
    "\n",
    "        # change dataype from object to float for useful calculations\n",
    "        self.data['PDAU10'] = self.data['PDAU10'].apply(lambda x: pd.to_numeric(x.replace(',','.'), errors='coerce'))\n",
    "        self.data['PDAU5'] = self.data['PDAU5'].apply(lambda x: pd.to_numeric(x.replace(',','.'), errors='coerce'))\n",
    "\n",
    "        # convert datatypes to smaller ones for better storage\n",
    "        #print(self.data.dtypes)\n",
    "        df = convert_columns(self.data)\n",
    "        #print(df.dtypes)\n",
    "\n",
    "        # saving new csv file - adapt to database\n",
    "        df.to_csv('WHNDAUER2017_Matrix_cleaned.csv')\n"
   ]
  },
  {
   "cell_type": "code",
   "execution_count": 105,
   "metadata": {},
   "outputs": [
    {
     "name": "stdout",
     "output_type": "stream",
     "text": [
      "Please Select the DataSource i.e 'API'/'CSV'/'Database': csv\n",
      "csv\n",
      "Please select the Data set for Transformation: Wohndauer\n",
      "Wohndauer\n"
     ]
    }
   ],
   "source": [
    "if __name__ == '__main__':\n",
    "    dataSource = input(\"Please Select the DataSource i.e 'API'/'CSV'/'Database': \").lower()\n",
    "    print(dataSource)\n",
    "    dataSet = input('Please select the Data set for Transformation: ').title()\n",
    "    print(dataSet)\n",
    "    trans_obj = Transformation(dataSource, dataSet)\n",
    "    funcName = dataSource+dataSet\n",
    "    getattr(trans_obj, funcName)()"
   ]
  },
  {
   "cell_type": "code",
   "execution_count": null,
   "metadata": {},
   "outputs": [],
   "source": []
  }
 ],
 "metadata": {
  "kernelspec": {
   "display_name": "Python 3",
   "language": "python",
   "name": "python3"
  },
  "language_info": {
   "codemirror_mode": {
    "name": "ipython",
    "version": 3
   },
   "file_extension": ".py",
   "mimetype": "text/x-python",
   "name": "python",
   "nbconvert_exporter": "python",
   "pygments_lexer": "ipython3",
   "version": "3.8.1"
  },
  "toc": {
   "base_numbering": 1,
   "nav_menu": {},
   "number_sections": true,
   "sideBar": true,
   "skip_h1_title": false,
   "title_cell": "Table of Contents",
   "title_sidebar": "Contents",
   "toc_cell": false,
   "toc_position": {},
   "toc_section_display": true,
   "toc_window_display": false
  }
 },
 "nbformat": 4,
 "nbformat_minor": 2
}
